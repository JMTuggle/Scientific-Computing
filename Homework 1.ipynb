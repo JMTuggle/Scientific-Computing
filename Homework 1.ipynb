{
 "cells": [
  {
   "cell_type": "code",
   "execution_count": 1,
   "id": "fad4c1ed-0b87-4ba4-a1f3-01f954693212",
   "metadata": {},
   "outputs": [
    {
     "name": "stdout",
     "output_type": "stream",
     "text": [
      "-0.57078961788788\n",
      "-6.016180886803113e-09\n"
     ]
    }
   ],
   "source": [
    "import numpy as np\n",
    "x = np.array([-1.6])\n",
    "for j in range(100):\n",
    "    f_xj = x[j] * np.sin(3 * x[j]) - np.exp(x[j])\n",
    "    f_der_xj = np.sin(3 * x[j]) + 3 * x[j] * np.cos(3 * x[j]) - np.exp(x[j])\n",
    "    x_new = x[j] - f_xj / f_der_xj\n",
    "    x = np.append(x, x_new)\n",
    "    fc=x[j+1]*np.sin(3*x[j+1])-np.exp(x[j+1])\n",
    "    if abs(fc) < 1e-6:\n",
    "        break \n",
    "print(x[j+1])\n",
    "print(fc)"
   ]
  },
  {
   "cell_type": "code",
   "execution_count": 2,
   "id": "7208cfcb-d51f-49ae-abf0-0e8ff1ae184d",
   "metadata": {},
   "outputs": [
    {
     "data": {
      "text/plain": [
       "array([-1.6       ,  3.19799514,  2.46440244,  1.2035359 ,  0.65020146,\n",
       "       -0.11692334, -0.66052349, -0.52192654, -0.56655274, -0.57074658,\n",
       "       -0.57078962])"
      ]
     },
     "execution_count": 2,
     "metadata": {},
     "output_type": "execute_result"
    }
   ],
   "source": [
    "x"
   ]
  },
  {
   "cell_type": "code",
   "execution_count": 3,
   "id": "ed5fe38a-b98f-4935-bf6e-02633efd3986",
   "metadata": {},
   "outputs": [
    {
     "name": "stdout",
     "output_type": "stream",
     "text": [
      "[-1.6         3.19799514  2.46440244  1.2035359   0.65020146 -0.11692334\n",
      " -0.66052349 -0.52192654 -0.56655274 -0.57074658 -0.57078962]\n"
     ]
    }
   ],
   "source": [
    "print(x)"
   ]
  },
  {
   "cell_type": "code",
   "execution_count": null,
   "id": "d10b289f-6eaa-437d-a2e9-d2aa9b12ada9",
   "metadata": {},
   "outputs": [],
   "source": []
  }
 ],
 "metadata": {
  "kernelspec": {
   "display_name": "Python 3 (ipykernel)",
   "language": "python",
   "name": "python3"
  },
  "language_info": {
   "codemirror_mode": {
    "name": "ipython",
    "version": 3
   },
   "file_extension": ".py",
   "mimetype": "text/x-python",
   "name": "python",
   "nbconvert_exporter": "python",
   "pygments_lexer": "ipython3",
   "version": "3.11.7"
  }
 },
 "nbformat": 4,
 "nbformat_minor": 5
}
