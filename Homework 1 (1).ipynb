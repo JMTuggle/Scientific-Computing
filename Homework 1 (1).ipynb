{
 "cells": [
  {
   "cell_type": "code",
   "execution_count": 75,
   "id": "fad4c1ed-0b87-4ba4-a1f3-01f954693212",
   "metadata": {},
   "outputs": [
    {
     "name": "stdout",
     "output_type": "stream",
     "text": [
      "[-1.6         3.19799514  2.46440244  1.2035359   0.65020146 -0.11692334\n",
      " -0.66052349 -0.52192654 -0.56655274 -0.57074658 -0.57078962 -0.57078962]\n"
     ]
    }
   ],
   "source": [
    "import numpy as np\n",
    "x = np.array([-1.6])\n",
    "for j in range(100):\n",
    "    f_xj = x[j] * np.sin(3 * x[j]) - np.exp(x[j])\n",
    "    f_der_xj = np.sin(3 * x[j]) + 3 * x[j] * np.cos(3 * x[j]) - np.exp(x[j])\n",
    "    x_new = x[j] - f_xj / f_der_xj\n",
    "    x = np.append(x, x_new)\n",
    "    fc=x[j]*np.sin(3*x[j])-np.exp(x[j])\n",
    "    if abs(fc) < 1e-6:\n",
    "        break \n",
    "print(x)"
   ]
  },
  {
   "cell_type": "code",
   "execution_count": 7,
   "id": "d10b289f-6eaa-437d-a2e9-d2aa9b12ada9",
   "metadata": {},
   "outputs": [],
   "source": [
    "np.save('A1.npy', x)"
   ]
  },
  {
   "cell_type": "code",
   "execution_count": 8,
   "id": "196cc17a-4e2f-430c-98d9-2b79f4c81ea6",
   "metadata": {},
   "outputs": [
    {
     "data": {
      "text/plain": [
       "array([-1.6       ,  3.19799514,  2.46440244,  1.2035359 ,  0.65020146,\n",
       "       -0.11692334, -0.66052349, -0.52192654, -0.56655274, -0.57074658,\n",
       "       -0.57078962])"
      ]
     },
     "execution_count": 8,
     "metadata": {},
     "output_type": "execute_result"
    }
   ],
   "source": [
    "np.load('A1.npy')"
   ]
  },
  {
   "cell_type": "code",
   "execution_count": 63,
   "id": "2c086024-065b-4f65-a3a5-85191cb0b8d0",
   "metadata": {},
   "outputs": [
    {
     "data": {
      "text/plain": [
       "-0.5707893371582031"
      ]
     },
     "metadata": {},
     "output_type": "display_data"
    },
    {
     "data": {
      "text/plain": [
       "16"
      ]
     },
     "metadata": {},
     "output_type": "display_data"
    }
   ],
   "source": [
    "xr = -0.4\n",
    "xl = -0.7\n",
    "mid = np.array([])\n",
    "\n",
    "for j in range(100):\n",
    "    xc = (xr + xl)/2\n",
    "    mid = np.append(mid, xc) \n",
    "    fc = (xc) * np.sin(3*(xc)) - np.exp(xc)\n",
    "    if ( fc > 0 ):\n",
    "        xl = xc\n",
    "    else:\n",
    "        xr = xc\n",
    "    if  abs(fc) < 1e-6:\n",
    "        display(xc); display(j)\n",
    "        break"
   ]
  },
  {
   "cell_type": "code",
   "execution_count": 64,
   "id": "31ca40ef-832f-47b3-8f6b-e4dfb90f4b85",
   "metadata": {},
   "outputs": [
    {
     "name": "stdout",
     "output_type": "stream",
     "text": [
      "[-0.55       -0.625      -0.5875     -0.56875    -0.578125   -0.5734375\n",
      " -0.57109375 -0.56992188 -0.57050781 -0.57080078 -0.5706543  -0.57072754\n",
      " -0.57076416 -0.57078247 -0.57079163 -0.57078705 -0.57078934]\n"
     ]
    }
   ],
   "source": [
    "print(mid)"
   ]
  },
  {
   "cell_type": "code",
   "execution_count": 81,
   "id": "5efdcdc8-783b-4db3-918f-648c86828d4b",
   "metadata": {},
   "outputs": [],
   "source": [
    "np.save('A2.npy', mid)"
   ]
  },
  {
   "cell_type": "code",
   "execution_count": 82,
   "id": "2d2d1d1d-ec5a-4778-afe4-b76b8b92a0ed",
   "metadata": {},
   "outputs": [
    {
     "name": "stdout",
     "output_type": "stream",
     "text": [
      "[12 17]\n"
     ]
    }
   ],
   "source": [
    "A3 = np.array([x.size, mid.size])\n",
    "print(A3)\n",
    "np.save('A3.npy', A3)"
   ]
  },
  {
   "cell_type": "code",
   "execution_count": 94,
   "id": "f329244f-1cf2-4eb2-99cb-8af45a31b7e8",
   "metadata": {},
   "outputs": [
    {
     "name": "stdout",
     "output_type": "stream",
     "text": [
      "[[ 3  2]\n",
      " [-1  3]]\n"
     ]
    }
   ],
   "source": [
    "A = np.array([[1, 2] , [-1, 1]])\n",
    "B = np.array([[2, 0] , [0, 2]])\n",
    "A4 = A + B\n",
    "print(A4)\n",
    "np.save('A4.npy', A4)"
   ]
  },
  {
   "cell_type": "code",
   "execution_count": 95,
   "id": "99be495c-0f83-470e-b9bb-d9406cedd776",
   "metadata": {},
   "outputs": [
    {
     "data": {
      "text/plain": [
       "array([[ 3,  2],\n",
       "       [-1,  3]])"
      ]
     },
     "execution_count": 95,
     "metadata": {},
     "output_type": "execute_result"
    }
   ],
   "source": [
    "np.load('A4.npy')"
   ]
  },
  {
   "cell_type": "code",
   "execution_count": 96,
   "id": "829c324e-dd53-4d56-958e-de8c0e6261f6",
   "metadata": {},
   "outputs": [
    {
     "name": "stdout",
     "output_type": "stream",
     "text": [
      "[[ 3]\n",
      " [-4]]\n"
     ]
    }
   ],
   "source": [
    "x = np.array([[1],[0]])\n",
    "y = np.array([[0],[1]])\n",
    "A5 = 3*x - 4*y\n",
    "print(A5)\n",
    "np.save('A5.npy', A5)\n"
   ]
  },
  {
   "cell_type": "code",
   "execution_count": 97,
   "id": "f2720d9f-2fd9-4b27-8acd-6badd0076c69",
   "metadata": {},
   "outputs": [
    {
     "name": "stdout",
     "output_type": "stream",
     "text": [
      "[[ 1]\n",
      " [-1]]\n"
     ]
    }
   ],
   "source": [
    "A6 = A@x\n",
    "print(A6)\n",
    "np.save('A6.npy', A6)"
   ]
  },
  {
   "cell_type": "code",
   "execution_count": 98,
   "id": "3b67d28d-ca0a-431b-a0d5-11c6afb6af3a",
   "metadata": {},
   "outputs": [
    {
     "name": "stdout",
     "output_type": "stream",
     "text": [
      "[[ 2]\n",
      " [-2]]\n"
     ]
    }
   ],
   "source": [
    "A7 = B@(x-y)\n",
    "print(A7)\n",
    "np.save('A7.npy', A7)"
   ]
  },
  {
   "cell_type": "code",
   "execution_count": 99,
   "id": "0b82ae96-84d7-4b78-af75-c82189cba008",
   "metadata": {},
   "outputs": [
    {
     "name": "stdout",
     "output_type": "stream",
     "text": [
      "[[ 1]\n",
      " [ 2]\n",
      " [-1]]\n"
     ]
    }
   ],
   "source": [
    "D = np.array([[1,2],[2,3],[-1,0]])\n",
    "A8 = D@x\n",
    "print(A8)\n",
    "np.save('A8.npy', A8)"
   ]
  },
  {
   "cell_type": "code",
   "execution_count": 100,
   "id": "e8271b96-4f9b-40f1-afd8-984de06391c0",
   "metadata": {},
   "outputs": [
    {
     "name": "stdout",
     "output_type": "stream",
     "text": [
      "[[ 2]\n",
      " [ 4]\n",
      " [-2]]\n"
     ]
    }
   ],
   "source": [
    "z = np.array([[1],[2],[-1]])\n",
    "A9 = D@x+z\n",
    "print(A9)\n",
    "np.save('A9.npy', A9)"
   ]
  },
  {
   "cell_type": "code",
   "execution_count": 101,
   "id": "98c1b787-4d6c-48cc-9a35-89c1d5e4866f",
   "metadata": {},
   "outputs": [
    {
     "name": "stdout",
     "output_type": "stream",
     "text": [
      "[[ 2  4]\n",
      " [-2  2]]\n"
     ]
    }
   ],
   "source": [
    "A10 = A@B\n",
    "print(A10)\n",
    "np.save('A10.npy', A10)"
   ]
  },
  {
   "cell_type": "code",
   "execution_count": 102,
   "id": "e8fa7dab-d767-436b-8680-1a068f7ec907",
   "metadata": {},
   "outputs": [
    {
     "name": "stdout",
     "output_type": "stream",
     "text": [
      "[[ 4  0 -6]\n",
      " [ 0  0 -2]]\n"
     ]
    }
   ],
   "source": [
    "C = np.array([[2,0,-3],[0,0,-1]])\n",
    "A11 = B @ C\n",
    "print(A11)\n",
    "np.save('A11.npy', A11)"
   ]
  },
  {
   "cell_type": "code",
   "execution_count": 103,
   "id": "88337d87-8815-44b2-8f2a-8033b061dd9e",
   "metadata": {},
   "outputs": [
    {
     "name": "stdout",
     "output_type": "stream",
     "text": [
      "[[5 4]\n",
      " [1 0]]\n"
     ]
    }
   ],
   "source": [
    "A12 = C @ D\n",
    "print(A12)\n",
    "np.save('A12.npy', A12)"
   ]
  }
 ],
 "metadata": {
  "kernelspec": {
   "display_name": "Python 3 (ipykernel)",
   "language": "python",
   "name": "python3"
  },
  "language_info": {
   "codemirror_mode": {
    "name": "ipython",
    "version": 3
   },
   "file_extension": ".py",
   "mimetype": "text/x-python",
   "name": "python",
   "nbconvert_exporter": "python",
   "pygments_lexer": "ipython3",
   "version": "3.11.7"
  }
 },
 "nbformat": 4,
 "nbformat_minor": 5
}
